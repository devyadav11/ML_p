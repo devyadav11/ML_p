{
  "nbformat": 4,
  "nbformat_minor": 0,
  "metadata": {
    "colab": {
      "provenance": [],
      "authorship_tag": "ABX9TyO/mxvoxH3XZpPTzt6dUOgX",
      "include_colab_link": true
    },
    "kernelspec": {
      "name": "python3",
      "display_name": "Python 3"
    },
    "language_info": {
      "name": "python"
    }
  },
  "cells": [
    {
      "cell_type": "markdown",
      "metadata": {
        "id": "view-in-github",
        "colab_type": "text"
      },
      "source": [
        "<a href=\"https://colab.research.google.com/github/devyadav11/ML_tryouts/blob/main/Notes_python.ipynb\" target=\"_parent\"><img src=\"https://colab.research.google.com/assets/colab-badge.svg\" alt=\"Open In Colab\"/></a>"
      ]
    },
    {
      "cell_type": "code",
      "source": [
        "import torch.nn as nn\n",
        "import torch.optim as optim\n",
        "\n",
        "import pandas as pd\n",
        "import math\n",
        "import torch\n",
        "import torchvision\n",
        "import torch.nn.functional as F  # Parameterless functions, like (some) activation functions\n",
        "import torchvision.datasets as datasets  # Standard datasets\n",
        "import torchvision.transforms as transforms  # Transformations we can perform on our dataset for augmentation\n",
        "from torch import optim  # For optimizers like SGD, Adam, etc.\n",
        "from torch import nn  # All neural network modules\n",
        "from torch.utils.data import ( DataLoader, random_split)                    # Gives easier dataset managment by creating mini batches etc.\n",
        "from tqdm import tqdm                                                       # For nice progress bar!\n",
        "\n",
        "from torchvision.datasets import ImageFolder\n",
        "import os\n",
        "import random\n",
        "import matplotlib.pyplot as plt\n",
        "import numpy as np\n",
        "import pathlib"
      ],
      "metadata": {
        "id": "416ZO-PMqlnx"
      },
      "execution_count": 64,
      "outputs": []
    },
    {
      "cell_type": "code",
      "execution_count": 65,
      "metadata": {
        "colab": {
          "base_uri": "https://localhost:8080/"
        },
        "id": "gUmXipmD4Phn",
        "outputId": "4b269ad6-c4b8-48d2-9e9e-420f58dbab0b"
      },
      "outputs": [
        {
          "output_type": "stream",
          "name": "stdout",
          "text": [
            "[(1, 'a'), (2, 'b'), (3, 'c')]\n",
            "1 a\n",
            "2 b\n",
            "3 c\n"
          ]
        }
      ],
      "source": [
        "# 1.  zip = combine multiple iterables (like lists or tuples) element-wise into tuples. It's like pairing items together by their positions.\n",
        "\n",
        "a = [1, 2, 3]\n",
        "b = ['a', 'b', 'c']\n",
        "\n",
        "zipped = zip(a, b)\n",
        "print(list(zipped))\n",
        "\n",
        "for num, char in zip(a, b):\n",
        "    print(num, char)\n",
        "\n"
      ]
    },
    {
      "cell_type": "code",
      "source": [
        "x = ['devyadav','ankit', 4] +[2,3]\n",
        "y = x + [12,13,14]\n",
        "print(y)"
      ],
      "metadata": {
        "colab": {
          "base_uri": "https://localhost:8080/"
        },
        "id": "Vzo51CFuqgqN",
        "outputId": "0bd072f3-f12b-4880-b2b3-c94de0bdd95e"
      },
      "execution_count": 66,
      "outputs": [
        {
          "output_type": "stream",
          "name": "stdout",
          "text": [
            "['devyadav', 'ankit', 4, 2, 3, 12, 13, 14]\n"
          ]
        }
      ]
    },
    {
      "cell_type": "code",
      "source": [
        "x = torch.Generator().manual_seed(12345)\n",
        "g = torch.rand(1,5, generator=x)\n",
        "g = g/g.sum()\n",
        "print(g)\n",
        "g.float()"
      ],
      "metadata": {
        "colab": {
          "base_uri": "https://localhost:8080/"
        },
        "id": "gJADLp-iKlwR",
        "outputId": "f5e732eb-0734-4027-aad6-42c2e1da88f5"
      },
      "execution_count": 122,
      "outputs": [
        {
          "output_type": "stream",
          "name": "stdout",
          "text": [
            "tensor([[0.2889, 0.2589, 0.2920, 0.1357, 0.0245]])\n"
          ]
        },
        {
          "output_type": "execute_result",
          "data": {
            "text/plain": [
              "tensor([[0.2889, 0.2589, 0.2920, 0.1357, 0.0245]])"
            ]
          },
          "metadata": {},
          "execution_count": 122
        }
      ]
    },
    {
      "cell_type": "code",
      "source": [
        "g = torch.multinomial(g, num_samples = 10, replacement=True, generator = x)\n",
        "g"
      ],
      "metadata": {
        "colab": {
          "base_uri": "https://localhost:8080/"
        },
        "id": "Gd_0WrPyz-pb",
        "outputId": "33f7070e-6ff6-4f16-b256-8193df8e2f85"
      },
      "execution_count": 124,
      "outputs": [
        {
          "output_type": "execute_result",
          "data": {
            "text/plain": [
              "tensor([[4, 2, 1, 1, 1, 1, 0, 1, 0, 1]])"
            ]
          },
          "metadata": {},
          "execution_count": 124
        }
      ]
    }
  ]
}